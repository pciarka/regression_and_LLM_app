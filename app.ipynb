{
 "cells": [
  {
   "cell_type": "code",
   "execution_count": null,
   "metadata": {},
   "outputs": [],
   "source": [
    "from pathlib import Path\n",
    "from datetime import date\n",
    "from getpass import getpass\n",
    "from IPython.display import Image\n",
    "import instructor\n",
    "from pydantic import BaseModel\n",
    "from openai import OpenAI\n",
    "import pandas as pd\n",
    "from dotenv import load_dotenv\n",
    "import os\n",
    "from pycaret.regression import  load_model, predict_model\n"
   ]
  },
  {
   "cell_type": "code",
   "execution_count": 68,
   "metadata": {},
   "outputs": [],
   "source": [
    "# załadowanie .env i wczytanie klucza\n",
    "load_dotenv()\n",
    "key = os.getenv(\"OPENAI_API_KEY\")\n",
    "\n",
    "# schemat odpowiedzi AI\n",
    "class Desc_of_men(BaseModel):\n",
    "    \n",
    "    Age_category: int\n",
    "    Gender: int\n",
    "    Time_5_km: int\n",
    "    Info: str\n",
    "\n",
    "# dane wejściowe \n",
    "input=\"jestem mężczyzną, mam 100 lat przebiegam 5km w 30 minut\" \n",
    "\n",
    "# funkcja  - pytanie do AI\n",
    "def ask_AI (input):\n",
    "    instructor_openai_client = instructor.from_openai(OpenAI(api_key=key))\n",
    "\n",
    "    resp_AI = instructor_openai_client.chat.completions.create(\n",
    "        model=\"gpt-4o-mini\",\n",
    "        response_model=Desc_of_men,\n",
    "        messages=[\n",
    "            {\n",
    "                \"role\": \"user\",\n",
    "                \"content\": [\n",
    "                    {\n",
    "                        \"type\": \"text\",\n",
    "                        \"text\": \"\"\"Wypełnij klasę Desc_of_men  \n",
    "                        wiek zaokrąglony do pełnych dziesięcioleci w dół i czas przebiegnięcia 5 km przeliczony na sekundy,\n",
    "                        jeśli udało się w 100% wypełnić klasę w info wpisz ok jeśli się nie udało to w info wpisz jakich danych \n",
    "                        nie udało Ci się uzyskać, nie szacuj danych jednego rodzaju na podstawie innego rodzaju\n",
    "                        Twój input: \"\"\"+ input,\n",
    "                    },\n",
    "                    # {\n",
    "                    #     \"type\": \"image_url\",\n",
    "                    #     \"image_url\": {\n",
    "                    #         \"url\": image_data,\n",
    "                    #         \"detail\": \"high\"\n",
    "                    #     },\n",
    "                    # },\n",
    "                ],\n",
    "            },\n",
    "        ],\n",
    "    )\n",
    "    return resp_AI\n",
    "\n",
    "# funkcja sprawdzenie odpowiedzi z AI i dopytka lub podanie wyniku przetworzenia modelu\n",
    "\n",
    "df = ask_AI(input)\n",
    "\n",
    "data_list = [df]\n",
    "# print(data_list)\n",
    "df = pd.DataFrame([data.dict() for data in data_list])\n",
    "\n"
   ]
  },
  {
   "cell_type": "code",
   "execution_count": 69,
   "metadata": {},
   "outputs": [
    {
     "data": {
      "text/html": [
       "<div>\n",
       "<style scoped>\n",
       "    .dataframe tbody tr th:only-of-type {\n",
       "        vertical-align: middle;\n",
       "    }\n",
       "\n",
       "    .dataframe tbody tr th {\n",
       "        vertical-align: top;\n",
       "    }\n",
       "\n",
       "    .dataframe thead th {\n",
       "        text-align: right;\n",
       "    }\n",
       "</style>\n",
       "<table border=\"1\" class=\"dataframe\">\n",
       "  <thead>\n",
       "    <tr style=\"text-align: right;\">\n",
       "      <th></th>\n",
       "      <th>Age_category</th>\n",
       "      <th>Gender</th>\n",
       "      <th>Time_5_km</th>\n",
       "      <th>Info</th>\n",
       "    </tr>\n",
       "  </thead>\n",
       "  <tbody>\n",
       "    <tr>\n",
       "      <th>0</th>\n",
       "      <td>100</td>\n",
       "      <td>1</td>\n",
       "      <td>1800</td>\n",
       "      <td>ok</td>\n",
       "    </tr>\n",
       "  </tbody>\n",
       "</table>\n",
       "</div>"
      ],
      "text/plain": [
       "   Age_category  Gender  Time_5_km Info\n",
       "0           100       1       1800   ok"
      ]
     },
     "execution_count": 69,
     "metadata": {},
     "output_type": "execute_result"
    }
   ],
   "source": [
    "df"
   ]
  },
  {
   "cell_type": "code",
   "execution_count": 90,
   "metadata": {},
   "outputs": [],
   "source": [
    "def check_and_predict(df):\n",
    "    # Sprawdzenie wartości w wierszu 0 kolumny 'Info'\n",
    "    if df.loc[0, 'Info'] == \"ok\":\n",
    "        # Wartość 'Info' jest 'ok', więc możemy przejść do predykcji\n",
    "        # 1. Załaduj zapisany model\n",
    "        model = load_model('best_time_model')  # Upewnij się, że model jest w katalogu roboczym i bez rozszerzenia '.pkl'\n",
    "\n",
    "        # 2. Przygotuj nowe dane do predykcji\n",
    "        new_data = df\n",
    "\n",
    "        # 3. Wykonaj predykcje\n",
    "        predictions = predict_model(model, data=new_data)\n",
    "\n",
    "        # Zmień nazwę kolumny predykcji na 'Predicted_time_of_halfmarathon'\n",
    "        predictions = predictions.rename(columns={'prediction_label': 'Predicted_time_of_halfmarathon'})\n",
    "\n",
    "        # Wyświetl wynik predykcji\n",
    "        return predictions\n",
    "    else:\n",
    "        # Wartość 'Info' nie jest 'ok', więc informujemy użytkownika o brakujących danych\n",
    "        missing_info = df.loc[0, 'Info']\n",
    "        print(f\"Opowiedz więcej o: {missing_info}\")"
   ]
  },
  {
   "cell_type": "code",
   "execution_count": null,
   "metadata": {},
   "outputs": [
    {
     "name": "stdout",
     "output_type": "stream",
     "text": [
      "Transformation Pipeline and Model Successfully Loaded\n"
     ]
    }
   ],
   "source": [
    "a=check_and_predict(df)\n",
    "\n"
   ]
  },
  {
   "cell_type": "code",
   "execution_count": 92,
   "metadata": {},
   "outputs": [
    {
     "name": "stdout",
     "output_type": "stream",
     "text": [
      "   Age_category  Gender  Time_5_km Info  Predicted_time_of_halfmarathon\n",
      "0           100       1       1800   ok                     7967.910952\n"
     ]
    }
   ],
   "source": [
    "print(a)"
   ]
  },
  {
   "cell_type": "code",
   "execution_count": 100,
   "metadata": {},
   "outputs": [
    {
     "name": "stdout",
     "output_type": "stream",
     "text": [
      "2 godzin, 12 minut i 47 sekund Powodzenia w biegu!\n"
     ]
    }
   ],
   "source": [
    "def convert_seconds(total_seconds):\n",
    "    hours = int(total_seconds // 3600)          # Pełne godziny\n",
    "    minutes = int((total_seconds % 3600) // 60) # Pełne minuty\n",
    "    seconds = int(total_seconds % 60)           # Pełne sekundy\n",
    "    return hours, minutes, seconds\n",
    "\n",
    "\n",
    "# Przykład użycia\n",
    "total_seconds = a.loc[0, 'Predicted_time_of_halfmarathon']\n",
    "hours, minutes, seconds = convert_seconds(total_seconds)\n",
    "print(f\"{hours} godzin, {minutes} minut i {seconds} sekund Powodzenia w biegu!\")"
   ]
  },
  {
   "cell_type": "code",
   "execution_count": null,
   "metadata": {},
   "outputs": [],
   "source": []
  }
 ],
 "metadata": {
  "kernelspec": {
   "display_name": "od_zera_do_ai_4",
   "language": "python",
   "name": "python3"
  },
  "language_info": {
   "codemirror_mode": {
    "name": "ipython",
    "version": 3
   },
   "file_extension": ".py",
   "mimetype": "text/x-python",
   "name": "python",
   "nbconvert_exporter": "python",
   "pygments_lexer": "ipython3",
   "version": "3.11.10"
  }
 },
 "nbformat": 4,
 "nbformat_minor": 2
}
